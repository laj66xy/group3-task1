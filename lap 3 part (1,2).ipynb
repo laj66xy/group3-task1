{
 "cells": [
  {
   "cell_type": "code",
   "execution_count": 1,
   "id": "1d9431c5-fc22-419a-8b64-50e174d3de64",
   "metadata": {},
   "outputs": [
    {
     "name": "stdout",
     "output_type": "stream",
     "text": [
      "This album is Amazing!\n"
     ]
    }
   ],
   "source": [
    "# Write an if statement to determine if an album had a rating greater than 8. Test it using the rating for the album “Back in Black” that had a rating of 8.5. If the statement is true print \"This album is Amazing!\"\n",
    "rating = 8.5\n",
    "if rating > 8:\n",
    "    print (\"This album is Amazing!\")"
   ]
  },
  {
   "cell_type": "code",
   "execution_count": 2,
   "id": "2ca4c814-8379-40b0-9828-f99ab050d973",
   "metadata": {},
   "outputs": [
    {
     "name": "stdout",
     "output_type": "stream",
     "text": [
      "this album is amazing\n"
     ]
    }
   ],
   "source": [
    "# Write an if-else statement that performs the following. If the rating is larger then eight print “this album is amazing”. If the rating is less than or equal to 8 print “this album is ok”.\n",
    "rating = 8.5\n",
    "if rating > 8:\n",
    "    print (\"this album is amazing\")\n",
    "else:\n",
    "    print (\"this album is ok\")"
   ]
  },
  {
   "cell_type": "code",
   "execution_count": 3,
   "id": "d273a23c-9422-4081-af92-2bff3baf0dce",
   "metadata": {},
   "outputs": [
    {
     "name": "stdout",
     "output_type": "stream",
     "text": [
      "This album came out in year 1979\n"
     ]
    }
   ],
   "source": [
    "# Write an if statement to determine if an album came out before 1980 or in the years: 1991 or 1993. If the condition is true print out the year the album came out.\n",
    "album_year = 1979\n",
    "\n",
    "if album_year < 1980 or album_year == 1991 or album_year == 1993:\n",
    "    print(\"This album came out in year\", album_year)"
   ]
  },
  {
   "cell_type": "code",
   "execution_count": 4,
   "id": "4f241522-0cf5-493a-bbad-c10d8fa218dc",
   "metadata": {},
   "outputs": [
    {
     "name": "stdout",
     "output_type": "stream",
     "text": [
      "-4\n",
      "-3\n",
      "-2\n",
      "-1\n",
      "0\n",
      "1\n",
      "2\n",
      "3\n",
      "4\n"
     ]
    }
   ],
   "source": [
    "# Write a for loop the prints out all the element between -5 and 5 using the range function.\n",
    "for i in range(-4, 5):\n",
    "    print(i)"
   ]
  },
  {
   "cell_type": "code",
   "execution_count": 5,
   "id": "f338a2f2-be6c-4514-8edd-c1a111940285",
   "metadata": {},
   "outputs": [
    {
     "name": "stdout",
     "output_type": "stream",
     "text": [
      "rock\n",
      "R&B\n",
      "Soundtrack\n",
      "R&B\n",
      "soul\n",
      "pop\n"
     ]
    }
   ],
   "source": [
    "# Print the elements of the following list: Genres=[ 'rock', 'R&B', 'Soundtrack', 'R&B', 'soul', 'pop'] Make sure you follow Python conventions.\n",
    "Genres = ['rock', 'R&B', 'Soundtrack', 'R&B', 'soul', 'pop']\n",
    "for Genre in Genres:\n",
    "    print(Genre)"
   ]
  },
  {
   "cell_type": "code",
   "execution_count": 6,
   "id": "1edd1786-a37c-41e8-876c-0376ad4cec71",
   "metadata": {},
   "outputs": [
    {
     "name": "stdout",
     "output_type": "stream",
     "text": [
      "red\n",
      "yellow\n",
      "green\n",
      "purple\n",
      "blue\n"
     ]
    }
   ],
   "source": [
    "# Write a for loop that prints out the following list: squares=['red', 'yellow', 'green', 'purple', 'blue']\n",
    "squares=['red', 'yellow', 'green', 'purple', 'blue']\n",
    "for square in squares:\n",
    "    print(square)"
   ]
  },
  {
   "cell_type": "code",
   "execution_count": 7,
   "id": "57373bb6-d1bd-4261-b995-4535dc57aca7",
   "metadata": {},
   "outputs": [
    {
     "name": "stdout",
     "output_type": "stream",
     "text": [
      "10\n",
      "9.5\n",
      "10\n",
      "8\n",
      "7.5\n",
      "5\n"
     ]
    }
   ],
   "source": [
    "# Write a while loop to display the values of the Rating of an album playlist stored in the list PlayListRatings. If the score is less than 6, exit the loop. The list PlayListRatings is given by: PlayListRatings = [10, 9.5, 10, 8, 7.5, 5, 10, 10]\n",
    "PlayListRatings = [10, 9.5, 10, 8, 7.5, 5, 10, 10]\n",
    "i = 0\n",
    "Rating = PlayListRatings[0]\n",
    "while(i < len(PlayListRatings) and Rating >= 6):\n",
    "    Rating = PlayListRatings[i]\n",
    "    print(Rating)\n",
    "    i = i + 1"
   ]
  },
  {
   "cell_type": "code",
   "execution_count": 8,
   "id": "33140cd4-fd6e-4867-b19e-53c343fe8df1",
   "metadata": {},
   "outputs": [],
   "source": [
    "# Write a while loop to copy the strings 'orange' of the list squares to the list new_squares. Stop and exit the loop if the value on the list is not 'orange':\n",
    "squares = ['orange', 'orange', 'purple', 'blue ', 'orange']\n",
    "new_squares = []"
   ]
  },
  {
   "cell_type": "code",
   "execution_count": 9,
   "id": "b8a3036d-e938-4e98-a966-c4183a96569c",
   "metadata": {},
   "outputs": [
    {
     "name": "stdout",
     "output_type": "stream",
     "text": [
      "['orange', 'orange']\n"
     ]
    }
   ],
   "source": [
    "squares = ['orange', 'orange', 'purple', 'blue ', 'orange']\n",
    "new_squares = []\n",
    "i = 0\n",
    "while(i < len(squares) and squares[i] == 'orange'):\n",
    "    new_squares.append(squares[i])\n",
    "    i = i + 1\n",
    "print (new_squares)"
   ]
  },
  {
   "cell_type": "code",
   "execution_count": null,
   "id": "ec5509aa-d2ca-42c4-8dd3-49a383d2acca",
   "metadata": {},
   "outputs": [],
   "source": []
  }
 ],
 "metadata": {
  "kernelspec": {
   "display_name": "Python",
   "language": "python",
   "name": "conda-env-python-py"
  },
  "language_info": {
   "codemirror_mode": {
    "name": "ipython",
    "version": 3
   },
   "file_extension": ".py",
   "mimetype": "text/x-python",
   "name": "python",
   "nbconvert_exporter": "python",
   "pygments_lexer": "ipython3",
   "version": "3.7.10"
  }
 },
 "nbformat": 4,
 "nbformat_minor": 5
}
